{
 "cells": [
  {
   "cell_type": "code",
   "execution_count": 1,
   "metadata": {},
   "outputs": [],
   "source": [
    "import numpy as np\n",
    "import matplotlib.pyplot as plt\n"
   ]
  },
  {
   "cell_type": "code",
   "execution_count": 24,
   "metadata": {},
   "outputs": [],
   "source": [
    "# Generating data\n",
    "x = np.linspace(0,3,100)\n",
    "y = 2*x + 5*x**2"
   ]
  },
  {
   "cell_type": "code",
   "execution_count": 25,
   "metadata": {},
   "outputs": [
    {
     "data": {
      "text/plain": [
       "((100,), (100,))"
      ]
     },
     "execution_count": 25,
     "metadata": {},
     "output_type": "execute_result"
    }
   ],
   "source": [
    "x.shape, y.shape"
   ]
  },
  {
   "cell_type": "code",
   "execution_count": 26,
   "metadata": {},
   "outputs": [
    {
     "data": {
      "image/png": "[encoded data removed]",
      "text/plain": [
       "<Figure size 432x288 with 1 Axes>"
      ]
     },
     "metadata": {
      "needs_background": "light"
     },
     "output_type": "display_data"
    }
   ],
   "source": [
    "plt.plot(x, y, 'ro')\n",
    "plt.show()"
   ]
  },
  {
   "cell_type": "code",
   "execution_count": 27,
   "metadata": {},
   "outputs": [],
   "source": [
    "# introduce noise\n",
    "mu, sigma = 0, 2 # mean, standard deviation\n",
    "noise = np.random.normal(mu, sigma, 100)\n",
    "s = noise"
   ]
  },
  {
   "cell_type": "code",
   "execution_count": 28,
   "metadata": {},
   "outputs": [],
   "source": [
    "#new y is now Y\n",
    "Y = y + s"
   ]
  },
  {
   "cell_type": "code",
   "execution_count": 29,
   "metadata": {},
   "outputs": [
    {
     "data": {
      "image/png": "[encoded data removed]",
      "text/plain": [
       "<Figure size 432x288 with 1 Axes>"
      ]
     },
     "metadata": {
      "needs_background": "light"
     },
     "output_type": "display_data"
    }
   ],
   "source": [
    "plt.plot(x, Y, 'ro')\n",
    "plt.show()\n"
   ]
  },
  {
   "cell_type": "code",
   "execution_count": 30,
   "metadata": {},
   "outputs": [
    {
     "data": {
      "text/plain": [
       "100"
      ]
     },
     "execution_count": 30,
     "metadata": {},
     "output_type": "execute_result"
    }
   ],
   "source": [
    "x.shape[0]"
   ]
  },
  {
   "cell_type": "code",
   "execution_count": 31,
   "metadata": {},
   "outputs": [],
   "source": [
    "def x_transform(x, deg):\n",
    "    X = x.reshape(x.shape[0],1)\n",
    "    t = X.copy()\n",
    "    #Appending columns of higher degrees to X\n",
    "    for i in range(deg-1):\n",
    "        X = np.append(X, t**deg, axis=1)\n",
    "    return X"
   ]
  },
  {
   "cell_type": "code",
   "execution_count": 32,
   "metadata": {},
   "outputs": [],
   "source": [
    "X= x_transform(x, 2)"
   ]
  },
  {
   "cell_type": "code",
   "execution_count": 33,
   "metadata": {},
   "outputs": [
    {
     "data": {
      "text/plain": [
       "((100, 2), (100,))"
      ]
     },
     "execution_count": 33,
     "metadata": {},
     "output_type": "execute_result"
    }
   ],
   "source": [
    "X.shape, Y.shape"
   ]
  },
  {
   "cell_type": "markdown",
   "metadata": {},
   "source": [
    "# Model Development"
   ]
  },
  {
   "cell_type": "code",
   "execution_count": 334,
   "metadata": {},
   "outputs": [],
   "source": [
    "# Initialization of the weight W\n",
    "\n",
    "W = np.array([[1.33509132],[5.33509132]])      \n",
    "b = 0.04080542598287517"
   ]
  },
  {
   "cell_type": "code",
   "execution_count": 335,
   "metadata": {},
   "outputs": [],
   "source": [
    "def x_transform1(X, deg):\n",
    "    t = X.copy()\n",
    "    #Appending columns of higher degrees to X\n",
    "    for i in range(deg, deg+1):\n",
    "        X = np.column_stack((X, t**i))\n",
    "    return X"
   ]
  },
  {
   "cell_type": "code",
   "execution_count": 336,
   "metadata": {},
   "outputs": [],
   "source": [
    "def x_transform1(X, deg):\n",
    "    t = X.copy()\n",
    "    #Appending columns of higher degrees to X\n",
    "    f = X"
   ]
  },
  {
   "cell_type": "code",
   "execution_count": 337,
   "metadata": {},
   "outputs": [
    {
     "data": {
      "text/plain": [
       "((100, 2), (100,), (2, 1))"
      ]
     },
     "execution_count": 337,
     "metadata": {},
     "output_type": "execute_result"
    }
   ],
   "source": [
    "X.shape, y.shape, W.shape"
   ]
  },
  {
   "cell_type": "code",
   "execution_count": 338,
   "metadata": {},
   "outputs": [],
   "source": [
    "# y_hat = w1*x1 + w2*x2\n",
    "y_hat = W[0]*x + W[1]*x**2 + b"
   ]
  },
  {
   "cell_type": "code",
   "execution_count": 339,
   "metadata": {},
   "outputs": [
    {
     "data": {
      "text/plain": [
       "array([4.08054260e-02, 8.61618125e-02, 1.41316346e-01, 2.06269028e-01,\n",
       "       2.81019857e-01, 3.65568834e-01, 4.59915958e-01, 5.64061229e-01,\n",
       "       6.78004648e-01, 8.01746215e-01, 9.35285929e-01, 1.07862379e+00,\n",
       "       1.23175980e+00, 1.39469396e+00, 1.56742626e+00, 1.74995671e+00,\n",
       "       1.94228531e+00, 2.14441206e+00, 2.35633695e+00, 2.57805999e+00,\n",
       "       2.80958118e+00, 3.05090052e+00, 3.30201800e+00, 3.56293364e+00,\n",
       "       3.83364741e+00, 4.11415934e+00, 4.40446942e+00, 4.70457764e+00,\n",
       "       5.01448401e+00, 5.33418852e+00, 5.66369119e+00, 6.00299200e+00,\n",
       "       6.35209096e+00, 6.71098807e+00, 7.07968332e+00, 7.45817672e+00,\n",
       "       7.84646827e+00, 8.24455797e+00, 8.65244581e+00, 9.07013180e+00,\n",
       "       9.49761594e+00, 9.93489823e+00, 1.03819787e+01, 1.08388572e+01,\n",
       "       1.13055340e+01, 1.17820089e+01, 1.22682819e+01, 1.27643531e+01,\n",
       "       1.32702224e+01, 1.37858898e+01, 1.43113555e+01, 1.48466192e+01,\n",
       "       1.53916811e+01, 1.59465412e+01, 1.65111994e+01, 1.70856557e+01,\n",
       "       1.76699102e+01, 1.82639629e+01, 1.88678137e+01, 1.94814626e+01,\n",
       "       2.01049097e+01, 2.07381549e+01, 2.13811983e+01, 2.20340399e+01,\n",
       "       2.26966795e+01, 2.33691174e+01, 2.40513533e+01, 2.47433875e+01,\n",
       "       2.54452197e+01, 2.61568502e+01, 2.68782787e+01, 2.76095054e+01,\n",
       "       2.83505303e+01, 2.91013533e+01, 2.98619745e+01, 3.06323938e+01,\n",
       "       3.14126112e+01, 3.22026268e+01, 3.30024405e+01, 3.38120524e+01,\n",
       "       3.46314625e+01, 3.54606707e+01, 3.62996770e+01, 3.71484815e+01,\n",
       "       3.80070841e+01, 3.88754849e+01, 3.97536838e+01, 4.06416809e+01,\n",
       "       4.15394761e+01, 4.24470695e+01, 4.33644610e+01, 4.42916507e+01,\n",
       "       4.52286385e+01, 4.61754244e+01, 4.71320085e+01, 4.80983908e+01,\n",
       "       4.90745712e+01, 5.00605497e+01, 5.10563264e+01, 5.20619013e+01])"
      ]
     },
     "execution_count": 339,
     "metadata": {},
     "output_type": "execute_result"
    }
   ],
   "source": [
    "y_hat"
   ]
  },
  {
   "cell_type": "code",
   "execution_count": 327,
   "metadata": {},
   "outputs": [
    {
     "data": {
      "image/png": "[encoded data removed]",
      "text/plain": [
       "<Figure size 432x288 with 1 Axes>"
      ]
     },
     "metadata": {
      "needs_background": "light"
     },
     "output_type": "display_data"
    }
   ],
   "source": [
    "plt.plot(x, y_hat, \"b\")\n",
    "plt.plot(x, Y, 'ro')\n",
    "plt.show()"
   ]
  },
  {
   "cell_type": "code",
   "execution_count": 68,
   "metadata": {},
   "outputs": [],
   "source": [
    "# Loss or Error computation\n",
    "def err(y, y_hat):\n",
    "    return (y-y_hat)**2\n",
    "\n",
    "loss = err(Y, y_hat)"
   ]
  },
  {
   "cell_type": "code",
   "execution_count": 70,
   "metadata": {},
   "outputs": [
    {
     "data": {
      "text/plain": [
       "(100,)"
      ]
     },
     "execution_count": 70,
     "metadata": {},
     "output_type": "execute_result"
    }
   ],
   "source": [
    "loss.shape"
   ]
  },
  {
   "cell_type": "code",
   "execution_count": 71,
   "metadata": {},
   "outputs": [],
   "source": [
    "# Cost computation\n",
    "cost = np.mean(loss)"
   ]
  },
  {
   "cell_type": "code",
   "execution_count": 116,
   "metadata": {},
   "outputs": [
    {
     "data": {
      "text/plain": [
       "(100,)"
      ]
     },
     "execution_count": 116,
     "metadata": {},
     "output_type": "execute_result"
    }
   ],
   "source": [
    "Y.shape"
   ]
  },
  {
   "cell_type": "code",
   "execution_count": 120,
   "metadata": {},
   "outputs": [
    {
     "data": {
      "text/plain": [
       "(100,)"
      ]
     },
     "execution_count": 120,
     "metadata": {},
     "output_type": "execute_result"
    }
   ],
   "source": [
    "y_hat.shape"
   ]
  },
  {
   "cell_type": "code",
   "execution_count": 121,
   "metadata": {
    "scrolled": true
   },
   "outputs": [],
   "source": [
    "# derivative of loss\n",
    "dl_dw = -2*X.T*(Y-y_hat)"
   ]
  },
  {
   "cell_type": "code",
   "execution_count": 123,
   "metadata": {},
   "outputs": [
    {
     "data": {
      "text/plain": [
       "(2, 100)"
      ]
     },
     "execution_count": 123,
     "metadata": {},
     "output_type": "execute_result"
    }
   ],
   "source": [
    "dl_dw.shape"
   ]
  },
  {
   "cell_type": "code",
   "execution_count": 124,
   "metadata": {},
   "outputs": [],
   "source": [
    "# derivative of cost\n",
    "dc_dw = 1/X.shape[0] + np.mean(dl_dw)"
   ]
  },
  {
   "cell_type": "code",
   "execution_count": 131,
   "metadata": {},
   "outputs": [
    {
     "data": {
      "text/plain": [
       "array([[50.36744471],\n",
       "       [52.36744471]])"
      ]
     },
     "execution_count": 131,
     "metadata": {},
     "output_type": "execute_result"
    }
   ],
   "source": [
    "# update weight parameter\n",
    "w_old = W\n",
    "alpha = 0.01\n",
    "w_new = w_old - alpha*np.sum(dl_dw)\n",
    "w_new"
   ]
  },
  {
   "cell_type": "code",
   "execution_count": 291,
   "metadata": {},
   "outputs": [],
   "source": [
    "# Polynomial regressor\n",
    "def fit(epochs, w, x, y, a=0.01,):\n",
    "    log_cost = []\n",
    "    w_new = w\n",
    "    history = {'cost':[], 'w':[]}\n",
    "    for i in range(epochs):\n",
    "        y_hat = w_new[0]*x + w_new[1]*x**2\n",
    "        loss = (y-y_hat)**2\n",
    "        cost = 1/x.shape[0] *np.mean(loss)\n",
    "        dcost_dw = 1/x.shape[0] * sum((-2*x.T)*(y-y_hat))\n",
    "        w_old = w_new\n",
    "        w_new = w_old - a*(dcost_dw)\n",
    "        log_cost.append(np.log(cost))\n",
    "        if i%5 == 0:\n",
    "            print(f'Train epoch {i}---> J(w) = {cost} @ w = {w_new}')\n",
    "            history['cost'].append(cost)\n",
    "            history['w'].append(w_new)\n",
    "    return history"
   ]
  },
  {
   "cell_type": "code",
   "execution_count": 296,
   "metadata": {},
   "outputs": [
    {
     "name": "stdout",
     "output_type": "stream",
     "text": [
      "Train epoch 0---> J(w) = 0.19161699046782096 @ w = [[1.86923278]\n",
      " [5.86923278]]\n",
      "Train epoch 5---> J(w) = 0.0586842858822407 @ w = [[1.51378947]\n",
      " [5.51378947]]\n",
      "Train epoch 10---> J(w) = 0.04314053382244173 @ w = [[1.394871]\n",
      " [5.394871]]\n",
      "Train epoch 15---> J(w) = 0.041178457233755524 @ w = [[1.35508519]\n",
      " [5.35508519]]\n",
      "Train epoch 20---> J(w) = 0.04088448986709367 @ w = [[1.3417743]\n",
      " [5.3417743]]\n",
      "Train epoch 25---> J(w) = 0.040826711630378244 @ w = [[1.33732096]\n",
      " [5.33732096]]\n",
      "Train epoch 30---> J(w) = 0.04081192253446535 @ w = [[1.33583103]\n",
      " [5.33583103]]\n",
      "Train epoch 35---> J(w) = 0.04080748297178901 @ w = [[1.33533255]\n",
      " [5.33533255]]\n",
      "Train epoch 40---> J(w) = 0.04080605455410233 @ w = [[1.33516578]\n",
      " [5.33516578]]\n",
      "Train epoch 45---> J(w) = 0.04080558302616192 @ w = [[1.33510999]\n",
      " [5.33510999]]\n",
      "Train epoch 50---> J(w) = 0.04080542598287517 @ w = [[1.33509132]\n",
      " [5.33509132]]\n",
      "Train epoch 55---> J(w) = 0.04080537352167328 @ w = [[1.33508507]\n",
      " [5.33508507]]\n"
     ]
    }
   ],
   "source": [
    "w = np.array([[2],[6]])\n",
    "f = fit(60,w,x,Y )"
   ]
  },
  {
   "cell_type": "code",
   "execution_count": 343,
   "metadata": {},
   "outputs": [],
   "source": [
    "W = np.array([[1.33508507],[5.33508507]])      \n",
    "b = 0.04080537352167328"
   ]
  },
  {
   "cell_type": "code",
   "execution_count": 344,
   "metadata": {},
   "outputs": [],
   "source": [
    "y_hat = W[0]*x + W[1]*x**2 + b"
   ]
  },
  {
   "cell_type": "code",
   "execution_count": 345,
   "metadata": {},
   "outputs": [
    {
     "data": {
      "image/png": "[encoded data removed]",
      "text/plain": [
       "<Figure size 432x288 with 1 Axes>"
      ]
     },
     "metadata": {
      "needs_background": "light"
     },
     "output_type": "display_data"
    }
   ],
   "source": [
    "plt.plot(x, y_hat, \"b\")\n",
    "plt.plot(x, Y, 'ro')\n",
    "plt.show()"
   ]
  },
  {
   "cell_type": "markdown",
   "metadata": {},
   "source": [
    "# This is best I can do for now sir"
   ]
  },
  {
   "cell_type": "code",
   "execution_count": null,
   "metadata": {},
   "outputs": [],
   "source": []
  }
 ],
 "metadata": {
  "kernelspec": {
   "display_name": "Python 3",
   "language": "python",
   "name": "python3"
  },
  "language_info": {
   "codemirror_mode": {
    "name": "ipython",
    "version": 3
   },
   "file_extension": ".py",
   "mimetype": "text/x-python",
   "name": "python",
   "nbconvert_exporter": "python",
   "pygments_lexer": "ipython3",
   "version": "3.7.3"
  }
 },
 "nbformat": 4,
 "nbformat_minor": 2
}
