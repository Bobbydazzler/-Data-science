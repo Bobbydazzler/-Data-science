{
 "cells": [
  {
   "cell_type": "markdown",
   "metadata": {},
   "source": [
    "# SPE-CCL Module 1 Assessment Test.\n",
    "### Introduction to Python Programming.\n",
    "\n",
    "#### Attempt all Question."
   ]
  },
  {
   "cell_type": "markdown",
   "metadata": {},
   "source": [
    "## Question 1\n",
    "\n",
    "The value of $π$ can be approximated by the following infinite series:\n",
    "\n",
    "$π ≈ 3 + \\frac{4}{\n",
    "2 × 3 × 4}\n",
    "− \\frac{4}{\n",
    "4 × 5 × 6}\n",
    "+ \\frac{4}{\n",
    "6 × 7 × 8}\n",
    "− \\frac{4}{\n",
    "8 × 9 × 10}\n",
    "+ \\frac{4}{\n",
    "10 × 11 × 12}\n",
    "−· · ·$\n",
    "\n",
    "Write a program that displays 15 approximations of $π$. The first approximation\n",
    "should make use of only the first term from the infinite series. Each additional\n",
    "approximation displayed by your program should include one more term in the series,\n",
    "making it a better approximation of $π$ than any of the approximations displayed previously."
   ]
  },
  {
   "cell_type": "code",
   "execution_count": null,
   "metadata": {},
   "outputs": [],
   "source": [
    "# Complete Solution 1 Here: estimated time to complete 30 mins"
   ]
  },
  {
   "cell_type": "code",
   "execution_count": 1,
   "metadata": {},
   "outputs": [
    {
     "name": "stdout",
     "output_type": "stream",
     "text": [
      "3.0\n",
      "3.571428571428571\n",
      "3.8571428571428568\n",
      "4.0310559006211175\n",
      "4.1487029594446465\n",
      "4.23380934242337\n",
      "4.298325471455628\n",
      "4.348958382848033\n",
      "4.389774709378645\n",
      "4.423388154756796\n",
      "4.451557168841303\n",
      "4.475509264649686\n",
      "4.496127821350717\n",
      "4.5140650410816585\n",
      "4.5298130725777215\n",
      "4.5437503548076865\n"
     ]
    }
   ],
   "source": [
    "x = 1\n",
    "pi = 1\n",
    "sign = (-1) ** (x+1)\n",
    "y = 2*x\n",
    "for y in range(0, 16):\n",
    "    divider = y + (y+1)*(y+2)\n",
    "    pi += (sign*(4/divider))\n",
    "    print(pi)"
   ]
  },
  {
   "cell_type": "markdown",
   "metadata": {},
   "source": [
    "## Question 2\n",
    "\n",
    "The following formula can be used to determine the day of the week for January 1\n",
    "in a given year:\n",
    "\n",
    "$day of the week = (year + floor((year − 1) / 4) − floor((year − 1) / 100) +\n",
    "floor((year − 1) / 400)) % 7$\n",
    "\n",
    "The result calculated by this formula is an integer that represents the day of the\n",
    "week. Sunday is represented by 0. The remaining days of the week following in\n",
    "sequence through to Saturday, which is represented by 6.\n",
    "Use the formula above to write a program that reads a year from the user and\n",
    "reports the day of the week for January 1 of that year. The output from your program\n",
    "should include the full name of the day of the week, not just the integer returned by\n",
    "the formula."
   ]
  },
  {
   "cell_type": "code",
   "execution_count": null,
   "metadata": {},
   "outputs": [],
   "source": [
    "# Complete Solution 2 Here: estimated time to complete 20 mins"
   ]
  },
  {
   "cell_type": "code",
   "execution_count": 5,
   "metadata": {},
   "outputs": [
    {
     "name": "stdout",
     "output_type": "stream",
     "text": [
      "Enter year: 2022\n",
      "Saturday\n"
     ]
    }
   ],
   "source": [
    "year = int(input('Enter year: '))\n",
    "dayoftheweek = ((year + (year-1)//4) - ((year-1)//100) + ((year-1)//400))#if this code results to an error, then there is \n",
    "if dayoftheweek == 0:\n",
    "    print('Sunday')\n",
    "elif dayoftheweek == 1:\n",
    "    print('Monday')\n",
    "elif dayoftheweek == 2:\n",
    "    print('Tuesday')\n",
    "elif dayoftheweek == 3:\n",
    "    print('Wednsday')\n",
    "elif dayoftheweek == 4:\n",
    "    print('Thursday')\n",
    "elif dayoftheweek == 5:\n",
    "    print('Friday')\n",
    "elif dayoftheweek == 6:\n",
    "    print('Saturday')\n"
   ]
  },
  {
   "cell_type": "markdown",
   "metadata": {},
   "source": [
    "## Question 3\n",
    "\n",
    "A line of best fit is a straight line that best approximates a collection of n data points.\n",
    "In this exercise, we will assume that each point in the collection has an $x$ coordinate\n",
    "and a $y$ coordinate. The symbols $\\bar{x}$ and $\\bar{y}$ are used to represent the average $x$ value in\n",
    "the collection and the average $y$ value in the collection respectively. The line of best\n",
    "fit is represented by the equation $y = mx + b$ where m and b are calculated using\n",
    "the following formulas:\n",
    "\n",
    "$$\n",
    "m = \\frac{\\sum{xy} − \\frac{(\\sum{x})(\\sum{y})}{n}}{\\sum{x}^2 - \\frac{(\\sum{x})^2}{n}}\n",
    "$$\n",
    "\n",
    "\n",
    "$$b = \\bar{y} − m\\bar{x}$$\n",
    "\n",
    "\n",
    "Write a program that reads a collection of points from the user. The user will enter\n",
    "the first $x$ coordinate on its own line, followed by the first $y$ coordinate on its own\n",
    "line. Allow the user to continue entering coordinates, with the $x$ and $y$ values each\n",
    "entered on their own line, until your program reads a blank line for the $x$ coordinate.\n",
    "Display the formula for the line of best fit in the form $b = \\bar{y} − m\\bar{x}$ by replacing $m$\n",
    "and $b$ with the values calculated by the preceding formulas. For example, if the user\n",
    "inputs the coordinates (1, 1), (2, 2.1) and (3, 2.9) then your program should display\n",
    "$y = 0.95x + 0.1$."
   ]
  },
  {
   "cell_type": "code",
   "execution_count": null,
   "metadata": {},
   "outputs": [],
   "source": [
    "# Complete Solution 3 Here: estimated time to complete 30 mins"
   ]
  },
  {
   "cell_type": "code",
   "execution_count": 14,
   "metadata": {},
   "outputs": [
    {
     "name": "stdout",
     "output_type": "stream",
     "text": [
      "Enter X value: 1\n",
      "Enter Y value: 1\n",
      "Enter X value (with blank to end): 2\n",
      "Enter Y: 2.1\n",
      "Enter x value (with a blank to end): 3\n",
      "Enter Y: 2.9\n",
      "Enter x value (with a blank to end): \n",
      "y = 1.0x + (-0.1)\n"
     ]
    }
   ],
   "source": [
    "x = []\n",
    "y = []\n",
    "xy_product = []\n",
    "xsquared = []\n",
    "\n",
    "oriX = float(input('Enter X value: '))\n",
    "oriY = float(input('Enter Y value: '))\n",
    "\n",
    "x.append(oriX)\n",
    "y.append(oriY)\n",
    "xy_product.append(oriX * oriY)\n",
    "xsquared.append(oriX ** 2)\n",
    "\n",
    "current = float(input('Enter X value (with blank to end): '))\n",
    "while current != '':\n",
    "    currentx = float(current)\n",
    "    currenty = float(input('Enter Y: '))\n",
    "    \n",
    "    x.append(currentx)\n",
    "    y.append(currenty)\n",
    "    xy_product.append(currentx * currenty)\n",
    "    xsquared.append(currentx ** 2)\n",
    "    current = input('Enter x value (with a blank to end): ')\n",
    "    \n",
    "sum_x = sum(x)\n",
    "sum_y = sum(y)\n",
    "\n",
    "meanof_x = sum_x/len(x)\n",
    "meanof_y = sum_y/len(y)\n",
    "\n",
    "m = sum(xy_product) - (sum_x * sum_y/len(x))/sum(xsquared) - (sum_x**2/len(x))\n",
    "b = meanof_y - m*meanof_x\n",
    "print(\"y = {:0.1f}x + ({:0.1f})\" .format(m, b))"
   ]
  },
  {
   "cell_type": "markdown",
   "metadata": {},
   "source": [
    "## Question 4\n",
    "\n",
    "Create a program that determines and displays the number of unique characters in a\n",
    "string entered by the user. For example, Hello, World! has 10 unique characters\n",
    "while zzz has only one unique character. Use a dictionary or set to solve this problem."
   ]
  },
  {
   "cell_type": "code",
   "execution_count": null,
   "metadata": {},
   "outputs": [],
   "source": [
    "# Complete Solution 4 Here: estimated time to complete 20 mins"
   ]
  },
  {
   "cell_type": "code",
   "execution_count": 20,
   "metadata": {},
   "outputs": [
    {
     "name": "stdout",
     "output_type": "stream",
     "text": [
      "Enter any word: www\n"
     ]
    },
    {
     "data": {
      "text/plain": [
       "3"
      ]
     },
     "execution_count": 20,
     "metadata": {},
     "output_type": "execute_result"
    }
   ],
   "source": [
    "string = input('Enter any word: ')\n",
    "d = {'string': string}\n",
    "len(d.get('string'))"
   ]
  },
  {
   "cell_type": "markdown",
   "metadata": {},
   "source": [
    "## Question 5\n",
    "\n",
    "Write a class called `Investment` with fields called `principal` and `interest`. The constructor\n",
    "should set the values of those fields. There should be a method called `value_after` that\n",
    "returns the value of the investment after $n$ years. The formula for this is $p(1 + i)^n$, where $p$ is\n",
    "the principal, and $i$ is the interest rate. It should also use the special method `__str__` so that\n",
    "printing the object will result in something like below:\n",
    "`Principal - $1000.00`, `Interest rate - 5.12%`"
   ]
  },
  {
   "cell_type": "code",
   "execution_count": null,
   "metadata": {},
   "outputs": [],
   "source": [
    "# Complete Solution 5 Here: estimated time to complete 20 mins"
   ]
  },
  {
   "cell_type": "code",
   "execution_count": 42,
   "metadata": {},
   "outputs": [],
   "source": [
    "#investment class definition\n",
    "class investment:\n",
    "    \n",
    "    #Principal and interest field definition\n",
    "    def __init__(self, principal, interest):\n",
    "        self.principal = principal\n",
    "        self.interest = interest\n",
    "        print(myself.__str__())\n",
    "        \n",
    "    #The method for calculating the investment after n years    \n",
    "    def value_after(self, principal, interest, n):\n",
    "        valueafter = principal*(1 + interest)**n\n",
    "        print(valueafter)\n",
    "    "
   ]
  },
  {
   "cell_type": "code",
   "execution_count": 43,
   "metadata": {},
   "outputs": [
    {
     "name": "stdout",
     "output_type": "stream",
     "text": [
      "<__main__.investment object at 0x00000173897C4198>\n",
      "principal = 2323\n",
      "interest= 0.23\n",
      "5317.0366704299995\n"
     ]
    }
   ],
   "source": [
    "myself = investment(2323, 0.23)\n",
    "print('principal =', myself.principal)\n",
    "print('interest=', myself.interest)\n",
    "investment.value_after(myself,2323, 0.23, 4)\n"
   ]
  },
  {
   "cell_type": "code",
   "execution_count": null,
   "metadata": {},
   "outputs": [],
   "source": []
  }
 ],
 "metadata": {
  "kernelspec": {
   "display_name": "Python 3",
   "language": "python",
   "name": "python3"
  },
  "language_info": {
   "codemirror_mode": {
    "name": "ipython",
    "version": 3
   },
   "file_extension": ".py",
   "mimetype": "text/x-python",
   "name": "python",
   "nbconvert_exporter": "python",
   "pygments_lexer": "ipython3",
   "version": "3.7.3"
  }
 },
 "nbformat": 4,
 "nbformat_minor": 5
}
